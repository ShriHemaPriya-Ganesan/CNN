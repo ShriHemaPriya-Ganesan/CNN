{
  "cells": [
    {
      "cell_type": "markdown",
      "metadata": {
        "colab_type": "text",
        "id": "view-in-github"
      },
      "source": [
        "<a href=\"https://colab.research.google.com/github/UNB-TME-6017-W24/assignment-1-ShriHemaPriya/blob/main/ShriHemaPriyaGanesan_Assignment1.ipynb\" target=\"_parent\"><img src=\"https://colab.research.google.com/assets/colab-badge.svg\" alt=\"Open In Colab\"/></a>"
      ]
    },
    {
      "cell_type": "markdown",
      "metadata": {
        "id": "ejOMYvP9M2uy"
      },
      "source": [
        "**1. Describe in Function**\n",
        "\n",
        "\n"
      ]
    },
    {
      "cell_type": "markdown",
      "metadata": {
        "id": "UvNIwHFu_u4s"
      },
      "source": [
        "**tf.keras.layers.Conv2D:**\n",
        "\n",
        "It’s a 2D convolutional layer which is used for image classification and object detection. This was inherited from layer or module. This layer produces a tensor of outputs by creating a convolutional layer in the input layer. It has so many attributes like input_shape, activation, dilation_rate and etc.\n",
        "\n",
        "**Code Snippet:**\n",
        "tf.keras.layers.Conv2D(2,3,activation='relu',dilation_rate=2,input_shape=input_shape[1:])\n",
        "\n",
        "**Explanation:**\n",
        "The above Conv2D layer consists of 2 filters, 3*3 kernel size, relu as activation function, dilation rate of 2 which represents one empty pixel between the kernel elements, input shape of 1 which excludes the first dimension."
      ]
    },
    {
      "cell_type": "markdown",
      "metadata": {
        "id": "J_IGvQp1_saw"
      },
      "source": [
        "\n",
        "**tf.keras.layers.MaxPooling2D:**\n",
        "The MaxPooling2D layer is used for handling 2D spatial data. It reduces the spatial dimensions with input by using the maximum value from a group of neighboring pixels.\n",
        "\n",
        "**Code Snippet:**\n",
        "tf.keras.layers.MaxPooling2D(pool_size=(2, 2), strides=(2, 2), padding='valid')\n",
        "\n",
        "**Explanation:**\n",
        "* pool_size(2,2) – Size of the pooling window. MaxPooling takes the maximum value in each 2*2 window.\n",
        "* strides(2,2) – The pooling window moves with a stride of 2 in both horizontally and vertically which reduces the spatial dimensions by 2.\n",
        "* padding=’valid’ – No padding is applied which indicates the complete pooling windows within the input are considered.\n",
        "\n",
        "\n",
        "\n",
        "\n"
      ]
    },
    {
      "cell_type": "markdown",
      "metadata": {
        "id": "xzC-N-lEGOWN"
      },
      "source": [
        "**tf.keras.layers.Dropout:**\n",
        "This layer is used to prevent overfitting issue by setting the input units to 0at each step in the training phase. When the training attribute is set to true in model.fit() function, then the dropout layer applies and it will not be applicable if the training attribute is set to false.\n",
        "\n",
        "**Code Snippet:**\n",
        "tf.keras.layers.Dropout(rate=0.2, input_shape=(2,))\n",
        "\n",
        "**Explanation:**\n",
        "* rate=0.2 – The range lies only between 0 and 1. It indicates the fraction of input to be dropped out.\n",
        "* input_shape=(2,) – It indicated that the expected input has a shape of 1D array with 2 elements.\n",
        "\n"
      ]
    },
    {
      "cell_type": "markdown",
      "metadata": {
        "id": "5YTsLIDSMqc5"
      },
      "source": [
        "\n",
        "**tf.keras.layers.Flatten:**\n",
        "keras.layers.Flatten() - This layer just flattens the input and it will affect the batch size.\n"
      ]
    },
    {
      "cell_type": "markdown",
      "metadata": {
        "id": "HQLUETN6OpbK"
      },
      "source": [
        "**tf.keras.layers.Dense:**\n",
        "It is a densely connected layer with each neuron. It has many attributes like units, activation, kernel_initializer and etc like the below code snippet.\n",
        "\n",
        "tf.keras.layers.Dense(128,activation=’relu’)\n"
      ]
    },
    {
      "cell_type": "markdown",
      "metadata": {
        "id": "o0EcNI6ANZZj"
      },
      "source": [
        "**2. Setup and Load the MNIST Dataset**\n"
      ]
    },
    {
      "cell_type": "code",
      "execution_count": 1,
      "metadata": {
        "id": "Hilw9zY8NryQ"
      },
      "outputs": [],
      "source": [
        "#Import the necessary libraries from TensorFlow and Keras.\n",
        "import tensorflow as tf\n",
        "import keras\n",
        "from keras import layers\n",
        "from tensorflow.keras.models import Sequential\n",
        "from tensorflow.keras.layers import Dense, Dropout, Flatten\n",
        "from tensorflow.keras.layers import Conv2D, MaxPooling2D\n",
        "import matplotlib.pyplot as plt\n"
      ]
    },
    {
      "cell_type": "code",
      "execution_count": 2,
      "metadata": {
        "colab": {
          "base_uri": "https://localhost:8080/"
        },
        "id": "5dnl6wtUOVTn",
        "outputId": "ec148072-685f-4cdb-e782-a60bb09aa752"
      },
      "outputs": [
        {
          "name": "stdout",
          "output_type": "stream",
          "text": [
            "Downloading data from https://storage.googleapis.com/tensorflow/tf-keras-datasets/mnist.npz\n",
            "11490434/11490434 [==============================] - 0s 0us/step\n",
            "(60000, 28, 28)\n"
          ]
        }
      ],
      "source": [
        "#Load the MNIST dataset and split it into training and testing sets.\n",
        "mnist = tf.keras.datasets.mnist\n",
        "(x_train, y_train), (x_test, y_test) = mnist.load_data()\n",
        "#Normalize the pixel values of the images to the range [0, 1]\n",
        "x_train, x_test = x_train / 255.0, x_test / 255.0\n",
        "#Convert the class vectors to binary class matrices (one-hot encoding).\n",
        "y_train = keras.utils.to_categorical(y_train, 10)\n",
        "y_test = keras.utils.to_categorical(y_test, 10)\n",
        "#printing the shape of X_train to know about the number of data\n",
        "print(x_train.shape)\n"
      ]
    },
    {
      "cell_type": "markdown",
      "metadata": {
        "id": "S6WZsU1_drpS"
      },
      "source": [
        "**3. Build the CNN Model**"
      ]
    },
    {
      "cell_type": "code",
      "execution_count": 3,
      "metadata": {
        "id": "AHSZ_DBGO40n"
      },
      "outputs": [],
      "source": [
        "#CNN Architecture\n",
        "model = Sequential()\n",
        "# A convolutional layer with 32 filters, a 3x3 kernel size, and the 'relu' activation function.\n",
        "model.add(Conv2D(32, kernel_size=(3, 3), activation='relu', input_shape=(28, 28, 1)))\n",
        "# A max-pooling layer with a 2x2 pool size.\n",
        "model.add(MaxPooling2D(pool_size=(2, 2)))\n",
        "# A dropout layer with a dropout rate of 0.25.\n",
        "model.add(Dropout(0.25))\n",
        "#Another convolutional layer with 64 filters, a 3x3 kernel size, and the 'relu' activation function.\n",
        "model.add(Conv2D(64, kernel_size=(3, 3), activation='relu', input_shape=(28, 28, 1)))\n",
        "#A max-pooling layer with a 2x2 pool size.\n",
        "model.add(MaxPooling2D(pool_size=(2, 2)))\n",
        "#A dropout layer with a dropout rate of 0.25.\n",
        "model.add(Dropout(0.25))\n",
        "#A flatten layer to convert the 2D output to a 1D vector.\n",
        "model.add(Flatten())\n",
        "#A dense layer with 128 units and the 'relu' activation function.\n",
        "model.add(Dense(128, activation='relu'))\n",
        "#A dropout layer with a dropout rate of 0.5.\n",
        "model.add(Dropout(0.5))\n",
        "#A dense output layer with 10 units and the 'softmax' activation function.\n",
        "model.add(Dense(10, activation='softmax'))\n"
      ]
    },
    {
      "cell_type": "code",
      "execution_count": 4,
      "metadata": {
        "id": "p8b2AeQzl7_L"
      },
      "outputs": [],
      "source": [
        "# Compile the model with an appropriate optimizer, loss function, and metrics.\n",
        "model.compile(loss='categorical_crossentropy', optimizer='adam', metrics=['accuracy'])"
      ]
    },
    {
      "cell_type": "markdown",
      "metadata": {
        "id": "C2RRIMqRmEsZ"
      },
      "source": [
        "**4. Train and Test the Model**"
      ]
    },
    {
      "cell_type": "code",
      "execution_count": 5,
      "metadata": {
        "id": "PoFTiJWf_5rw"
      },
      "outputs": [],
      "source": [
        "#Split validation data for training\n",
        "x_val = x_train[-10000:]\n",
        "y_val = y_train[-10000:]\n",
        "#Train the model\n",
        "def train_model(model, x_train, y_train, batch_size, epochs):\n",
        "  #Save and print the history of the trained model.\n",
        "  global tmodel\n",
        "  tmodel = model.fit(x_train, y_train, batch_size=batch_size, epochs=epochs, verbose=1,validation_data=(x_val, y_val))\n",
        "  print(tmodel.history)\n",
        "  #Return the model\n",
        "  return model\n"
      ]
    },
    {
      "cell_type": "code",
      "execution_count": 6,
      "metadata": {
        "id": "CxtxLMkyo3eB"
      },
      "outputs": [],
      "source": [
        "#Evaluate the model\n",
        "def evaluate_model(model, x_test, y_test):\n",
        "  score = model.evaluate(x_test, y_test, verbose=0)\n",
        "  #Print the loss and accuracy\n",
        "  print('Test loss:', score[0])\n",
        "  print('Test accuracy:', score[1])"
      ]
    },
    {
      "cell_type": "code",
      "execution_count": 7,
      "metadata": {
        "colab": {
          "base_uri": "https://localhost:8080/"
        },
        "id": "XDgaEkFhBrFo",
        "outputId": "d15e4b74-8f20-487a-8feb-142f603eb1fc"
      },
      "outputs": [
        {
          "name": "stdout",
          "output_type": "stream",
          "text": [
            "Epoch 1/8\n",
            "938/938 [==============================] - 61s 63ms/step - loss: 0.2999 - accuracy: 0.9060 - val_loss: 0.0542 - val_accuracy: 0.9853\n",
            "Epoch 2/8\n",
            "938/938 [==============================] - 60s 64ms/step - loss: 0.1064 - accuracy: 0.9682 - val_loss: 0.0406 - val_accuracy: 0.9870\n",
            "Epoch 3/8\n",
            "938/938 [==============================] - 57s 61ms/step - loss: 0.0824 - accuracy: 0.9755 - val_loss: 0.0313 - val_accuracy: 0.9913\n",
            "Epoch 4/8\n",
            "938/938 [==============================] - 57s 61ms/step - loss: 0.0745 - accuracy: 0.9773 - val_loss: 0.0278 - val_accuracy: 0.9927\n",
            "Epoch 5/8\n",
            "938/938 [==============================] - 57s 61ms/step - loss: 0.0627 - accuracy: 0.9809 - val_loss: 0.0197 - val_accuracy: 0.9943\n",
            "Epoch 6/8\n",
            "938/938 [==============================] - 60s 64ms/step - loss: 0.0556 - accuracy: 0.9833 - val_loss: 0.0177 - val_accuracy: 0.9951\n",
            "Epoch 7/8\n",
            "938/938 [==============================] - 56s 60ms/step - loss: 0.0504 - accuracy: 0.9844 - val_loss: 0.0160 - val_accuracy: 0.9958\n",
            "Epoch 8/8\n",
            "938/938 [==============================] - 60s 64ms/step - loss: 0.0461 - accuracy: 0.9855 - val_loss: 0.0137 - val_accuracy: 0.9967\n",
            "{'loss': [0.2998773455619812, 0.10642531514167786, 0.08237507194280624, 0.07452376931905746, 0.06271831691265106, 0.055631063878536224, 0.05038360133767128, 0.04605332016944885], 'accuracy': [0.9059666395187378, 0.9681666493415833, 0.9755499958992004, 0.9772999882698059, 0.9809166789054871, 0.9832666516304016, 0.9843999743461609, 0.985450029373169], 'val_loss': [0.05415210500359535, 0.04063337296247482, 0.031311795115470886, 0.02778780832886696, 0.01972142420709133, 0.0177031010389328, 0.01597115583717823, 0.013688151724636555], 'val_accuracy': [0.9853000044822693, 0.9869999885559082, 0.9912999868392944, 0.9926999807357788, 0.9943000078201294, 0.9951000213623047, 0.9958000183105469, 0.9966999888420105]}\n"
          ]
        }
      ],
      "source": [
        "#Choose an appropriate batch size and number of epochs to train MNIST data.\n",
        "trainedmodel = train_model(model, x_train, y_train, batch_size=64, epochs=8)"
      ]
    },
    {
      "cell_type": "code",
      "execution_count": 8,
      "metadata": {
        "colab": {
          "base_uri": "https://localhost:8080/"
        },
        "id": "ZK8b6xgzB8He",
        "outputId": "599ea5c9-2105-420a-accb-7148d2184c0d"
      },
      "outputs": [
        {
          "name": "stdout",
          "output_type": "stream",
          "text": [
            "Test loss: 0.021043621003627777\n",
            "Test accuracy: 0.9930999875068665\n"
          ]
        }
      ],
      "source": [
        "#Evaluate the model on the MNIST test set and report the accuracy.\n",
        "score = trainedmodel.evaluate(x_test, y_test, verbose=0)\n",
        "#Print the loss and accuracy\n",
        "print('Test loss:', score[0])\n",
        "print('Test accuracy:', score[1])"
      ]
    },
    {
      "cell_type": "markdown",
      "metadata": {
        "id": "RwL04vjOEN9M"
      },
      "source": [
        "**5. Analysis and Reporting**"
      ]
    },
    {
      "cell_type": "code",
      "execution_count": 9,
      "metadata": {
        "colab": {
          "base_uri": "https://localhost:8080/",
          "height": 581
        },
        "id": "h0jDCBsuEMEj",
        "outputId": "f0a04dff-8e08-4d29-daea-13340a2e8ad7"
      },
      "outputs": [
        {
          "data": {
            "text/plain": [
              "<matplotlib.legend.Legend at 0x79f6c8267610>"
            ]
          },
          "execution_count": 9,
          "metadata": {},
          "output_type": "execute_result"
        },
        {
          "data": {
            "image/png": "[encoded data removed]",
            "text/plain": [
              "<Figure size 1200x600 with 1 Axes>"
            ]
          },
          "metadata": {},
          "output_type": "display_data"
        }
      ],
      "source": [
        "# Plot training & validation accuracy values\n",
        "plt.figure(figsize=(12, 6))\n",
        "plt.subplot(1, 2, 1)\n",
        "plt.plot(tmodel.history['accuracy'], label='Training Accuracy')\n",
        "plt.plot(tmodel.history['val_accuracy'], label='Validation Accuracy')\n",
        "plt.title('Training and Validation Accuracy')\n",
        "plt.xlabel('Epochs')\n",
        "plt.ylabel('Accuracy')\n",
        "plt.legend()\n",
        "\n",
        "\n"
      ]
    },
    {
      "cell_type": "code",
      "execution_count": 10,
      "metadata": {
        "colab": {
          "base_uri": "https://localhost:8080/",
          "height": 581
        },
        "id": "T8JkIS1wc7Ej",
        "outputId": "d7cea07e-44c5-4b17-d672-0905b62ecbc4"
      },
      "outputs": [
        {
          "data": {
            "text/plain": [
              "<matplotlib.legend.Legend at 0x79f6c8244550>"
            ]
          },
          "execution_count": 10,
          "metadata": {},
          "output_type": "execute_result"
        },
        {
          "data": {
            "image/png": "[encoded data removed]",
            "text/plain": [
              "<Figure size 1200x600 with 1 Axes>"
            ]
          },
          "metadata": {},
          "output_type": "display_data"
        }
      ],
      "source": [
        "# Plot training & validation loss values\n",
        "plt.figure(figsize=(12, 6))\n",
        "plt.subplot(1, 2, 1)\n",
        "plt.plot(tmodel.history['loss'], label='Training Loss')\n",
        "plt.plot(tmodel.history['val_loss'], label='Validation Loss')\n",
        "plt.title('Training and Validation Loss')\n",
        "plt.xlabel('Epochs')\n",
        "plt.ylabel('Loss')\n",
        "plt.legend()"
      ]
    },
    {
      "cell_type": "markdown",
      "metadata": {
        "id": "QweacgP5baCb"
      },
      "source": [
        "**Analysis and Report:**\n",
        "\n",
        "To compile the built CNN model, I have used categorical_crossentropy as a loss function which is mostly used for multi-class classification problems, adam optimizer which is the combination of RMSprop and Stochastic Gradient Descent with Momentum and specified the accuracy metric.\n",
        "\n",
        "Furthermore, I have used 64 as batch size and 8 epochs as I get good accuracy levels. There is no overfitting issue as I have used a decent number of epochs (not too much) with the appropriate batch size and also used dropout layer. Additionally, no underfitting issues as I used a good CNN architecture. The accuracy of the testing data is 99.22% which is a very good classification result.\n",
        "\n",
        "As per the plot, the training and validation accuracy are increasing gradually along with the epochs. The training and validation loss are decreasing gradually. These results are good as expected.\n",
        "\n",
        "**References:**\n",
        "\n",
        "* https://vitalflux.com/keras-categorical-cross-entropy-loss-function/\n",
        "* https://www.analyticsvidhya.com/blog/2023/09/what-is-adam-optimizer/\n"
      ]
    }
  ],
  "metadata": {
    "colab": {
      "authorship_tag": "ABX9TyNRpEKWS9Mtdt5CnGi4VYTU",
      "include_colab_link": true,
      "provenance": []
    },
    "kernelspec": {
      "display_name": "Python 3",
      "name": "python3"
    },
    "language_info": {
      "name": "python"
    }
  },
  "nbformat": 4,
  "nbformat_minor": 0
}
